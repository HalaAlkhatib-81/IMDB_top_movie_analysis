{
  "cells": [
    {
      "cell_type": "markdown",
      "metadata": {},
      "source": [
        "# \ud83c\udfb5 Spotify Listening Data Analysis\n",
        "\n",
        "Welcome! This beginner-friendly notebook will guide you through exploring your Spotify listening habits.\n",
        "\n",
        "You'll learn how to:\n",
        "- Load and explore real data\n",
        "- Clean and prepare the data\n",
        "- Visualize trends\n",
        "- Extract insights from your listening history"
      ]
    },
    {
      "cell_type": "code",
      "execution_count": null,
      "metadata": {},
      "outputs": [],
      "source": [
        "# \ud83d\udce6 Step 1: Import Libraries\n",
        "import pandas as pd\n",
        "import matplotlib.pyplot as plt\n",
        "import seaborn as sns\n",
        "\n",
        "# Set plot style\n",
        "sns.set(style=\"whitegrid\")"
      ]
    },
    {
      "cell_type": "markdown",
      "metadata": {},
      "source": [
        "## \ud83d\udcc1 Step 2: Load Your Spotify Data\n",
        "\n",
        "Replace `'your_file.json'` or `'your_file.csv'` with the path to your exported Spotify data."
      ]
    },
    {
      "cell_type": "code",
      "execution_count": null,
      "metadata": {},
      "outputs": [],
      "source": [
        "# Example: df = pd.read_json('StreamingHistory0.json')\n",
        "# OR if you have CSV: df = pd.read_csv('your_file.csv')\n",
        "df = pd.read_json('your_file.json')  # change this to your file\n",
        "\n",
        "# Preview the data\n",
        "df.head()"
      ]
    },
    {
      "cell_type": "markdown",
      "metadata": {},
      "source": [
        "## \ud83e\uddfc Step 3: Clean the Data\n",
        "- Convert timestamps\n",
        "- Check for missing values\n",
        "- Standardize column names"
      ]
    },
    {
      "cell_type": "code",
      "execution_count": null,
      "metadata": {},
      "outputs": [],
      "source": [
        "# Example for converting 'endTime' to datetime if it exists\n",
        "df['endTime'] = pd.to_datetime(df['endTime'])\n",
        "\n",
        "# Check basic info\n",
        "df.info()"
      ]
    },
    {
      "cell_type": "markdown",
      "metadata": {},
      "source": [
        "## \ud83d\udcca Step 4: Analyze & Visualize\n",
        "Let\u2019s answer questions like:\n",
        "- Who are your top artists?\n",
        "- How does your listening vary by day or hour?\n",
        "- What songs do you listen to most?"
      ]
    },
    {
      "cell_type": "code",
      "execution_count": null,
      "metadata": {},
      "outputs": [],
      "source": [
        "# Top 10 Artists\n",
        "top_artists = df['artistName'].value_counts().head(10)\n",
        "plt.figure(figsize=(10, 5))\n",
        "sns.barplot(x=top_artists.values, y=top_artists.index, palette='viridis')\n",
        "plt.title('Top 10 Artists')\n",
        "plt.xlabel('Plays')\n",
        "plt.ylabel('Artist')\n",
        "plt.show()"
      ]
    },
    {
      "cell_type": "code",
      "execution_count": null,
      "metadata": {},
      "outputs": [],
      "source": [
        "# Songs Played Per Day\n",
        "df['date'] = df['endTime'].dt.date\n",
        "plays_per_day = df['date'].value_counts().sort_index()\n",
        "plt.figure(figsize=(12, 4))\n",
        "plays_per_day.plot(kind='line')\n",
        "plt.title('Songs Played Per Day')\n",
        "plt.xlabel('Date')\n",
        "plt.ylabel('Number of Songs')\n",
        "plt.grid(True)\n",
        "plt.show()"
      ]
    },
    {
      "cell_type": "markdown",
      "metadata": {},
      "source": [
        "## \u270d\ufe0f Step 5: Insights & Reflection\n",
        "Use this space to write a few observations:\n",
        "- What surprised you?\n",
        "- Any trends you noticed?\n",
        "- Favorite time to listen to music?"
      ]
    },
    {
      "cell_type": "markdown",
      "metadata": {},
      "source": [
        "---\n",
        "\u2705 **Nice work!** You\u2019ve just completed a full mini data science project using real-world data.\n",
        "\n",
        "You can now share this notebook on GitHub, export it as a PDF, or turn it into a blog post later if you want."
      ]
    }
  ],
  "metadata": {
    "kernelspec": {
      "display_name": "Python 3",
      "language": "python",
      "name": "python3"
    },
    "language_info": {
      "name": "python",
      "version": "3.9"
    }
  },
  "nbformat": 4,
  "nbformat_minor": 2
}